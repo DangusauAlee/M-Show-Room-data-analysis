{
 "cells": [
  {
   "cell_type": "code",
   "execution_count": 2,
   "id": "82a57bd7",
   "metadata": {
    "scrolled": true
   },
   "outputs": [],
   "source": [
    "import pandas as pd\n",
    "import numpy as np\n",
    "import matplotlib.pyplot as plt\n",
    "import seaborn as sns\n",
    "%matplotlib inline"
   ]
  },
  {
   "cell_type": "code",
   "execution_count": null,
   "id": "49ff44a8",
   "metadata": {},
   "outputs": [],
   "source": [
    "#importing the data\n",
    "df=pd.read_csv('car_scrape.csv')"
   ]
  },
  {
   "cell_type": "code",
   "execution_count": null,
   "id": "a4a6ffe5",
   "metadata": {},
   "outputs": [],
   "source": [
    "#inspecting the data"
   ]
  },
  {
   "cell_type": "code",
   "execution_count": null,
   "id": "6dbdd8a6",
   "metadata": {
    "scrolled": true
   },
   "outputs": [],
   "source": [
    "#checking the data types\n",
    "print(df.dtypes)"
   ]
  },
  {
   "cell_type": "code",
   "execution_count": null,
   "id": "9d3298a2",
   "metadata": {},
   "outputs": [],
   "source": [
    "print(df.empty)"
   ]
  },
  {
   "cell_type": "code",
   "execution_count": null,
   "id": "8cb079b8",
   "metadata": {},
   "outputs": [],
   "source": [
    "print(df.shape)"
   ]
  },
  {
   "cell_type": "code",
   "execution_count": null,
   "id": "a8f8995b",
   "metadata": {},
   "outputs": [],
   "source": [
    "print(df.columns)"
   ]
  },
  {
   "cell_type": "code",
   "execution_count": null,
   "id": "956d6244",
   "metadata": {
    "scrolled": true
   },
   "outputs": [],
   "source": [
    "#checking Null values\n",
    "print(df.info())"
   ]
  },
  {
   "cell_type": "code",
   "execution_count": null,
   "id": "ca61071c",
   "metadata": {},
   "outputs": [],
   "source": [
    "#checking unique values in every column\n",
    "df.nunique().transpose()"
   ]
  },
  {
   "cell_type": "code",
   "execution_count": null,
   "id": "13cdc142",
   "metadata": {},
   "outputs": [],
   "source": [
    "#viewing all the production years\n",
    "df.year.unique()"
   ]
  },
  {
   "cell_type": "code",
   "execution_count": null,
   "id": "e763ec07",
   "metadata": {},
   "outputs": [],
   "source": [
    "df.year.value_counts()"
   ]
  },
  {
   "cell_type": "code",
   "execution_count": null,
   "id": "2503e0d7",
   "metadata": {},
   "outputs": [],
   "source": [
    "#describing objects columns\n",
    "df.describe(include=object).transpose()"
   ]
  },
  {
   "cell_type": "code",
   "execution_count": null,
   "id": "743e69a0",
   "metadata": {},
   "outputs": [],
   "source": [
    "#describing numerical columns\n",
    "df.describe().transpose()"
   ]
  },
  {
   "cell_type": "code",
   "execution_count": null,
   "id": "73c38e64",
   "metadata": {},
   "outputs": [],
   "source": [
    "df['title'].value_counts().head(20)"
   ]
  },
  {
   "cell_type": "code",
   "execution_count": null,
   "id": "e6e457a4",
   "metadata": {},
   "outputs": [],
   "source": [
    "df['location'].value_counts()"
   ]
  },
  {
   "cell_type": "code",
   "execution_count": null,
   "id": "7ccf49e8",
   "metadata": {},
   "outputs": [],
   "source": [
    "#locations as fct\n",
    "df.loc[df.location.str.contains('FCT')]"
   ]
  },
  {
   "cell_type": "code",
   "execution_count": null,
   "id": "45eb4a26",
   "metadata": {},
   "outputs": [],
   "source": [
    "#locations as abuja\n",
    "df.loc[df.location.str.contains('Abuja')]"
   ]
  },
  {
   "cell_type": "code",
   "execution_count": null,
   "id": "afd77176",
   "metadata": {},
   "outputs": [],
   "source": [
    "#locations as lagos\n",
    "df.loc[df.location.str.contains('Lagos')]"
   ]
  },
  {
   "cell_type": "code",
   "execution_count": null,
   "id": "2aca1266",
   "metadata": {},
   "outputs": [],
   "source": [
    "df.loc[df.location.str.contains('Ogun')]"
   ]
  },
  {
   "cell_type": "code",
   "execution_count": null,
   "id": "569307fc",
   "metadata": {},
   "outputs": [],
   "source": [
    "df.location.unique()"
   ]
  },
  {
   "cell_type": "code",
   "execution_count": null,
   "id": "e4cd88bb",
   "metadata": {},
   "outputs": [],
   "source": [
    "#removing inconsistent data in location using regex\n",
    "df['address']=df.location.str.replace(r' State$','').str.replace(r'FCT','Abuja').str.replace(r'Arepo ogun state','Ogun').str.replace(r'Mushin','Lagos').str.replace(r'Accra','other').str.replace(r'Adamawa','other').str.replace(r'Abia','other').str.strip()"
   ]
  },
  {
   "cell_type": "code",
   "execution_count": null,
   "id": "60e56506",
   "metadata": {},
   "outputs": [],
   "source": [
    "df.location.unique()"
   ]
  },
  {
   "cell_type": "code",
   "execution_count": null,
   "id": "6b968638",
   "metadata": {},
   "outputs": [],
   "source": [
    "df.address"
   ]
  },
  {
   "cell_type": "code",
   "execution_count": null,
   "id": "102131ac",
   "metadata": {
    "scrolled": true
   },
   "outputs": [],
   "source": [
    "#deleting the old incosistent location columns been replaced by address\n",
    "del df['location']"
   ]
  },
  {
   "cell_type": "code",
   "execution_count": null,
   "id": "a33e9437",
   "metadata": {},
   "outputs": [],
   "source": [
    "df.columns"
   ]
  },
  {
   "cell_type": "code",
   "execution_count": null,
   "id": "934ddf41",
   "metadata": {},
   "outputs": [],
   "source": [
    "df.isimported.unique()"
   ]
  },
  {
   "cell_type": "code",
   "execution_count": null,
   "id": "786c06bd",
   "metadata": {},
   "outputs": [],
   "source": [
    "df.engine.value_counts()"
   ]
  },
  {
   "cell_type": "code",
   "execution_count": null,
   "id": "1a548a55",
   "metadata": {},
   "outputs": [],
   "source": [
    "df.transmission.unique()"
   ]
  },
  {
   "cell_type": "code",
   "execution_count": null,
   "id": "3ca80e1b",
   "metadata": {},
   "outputs": [],
   "source": [
    "df.paint.value_counts()"
   ]
  },
  {
   "cell_type": "code",
   "execution_count": null,
   "id": "bc5638d2",
   "metadata": {},
   "outputs": [],
   "source": [
    "df.paint.unique()"
   ]
  },
  {
   "cell_type": "code",
   "execution_count": null,
   "id": "4e7f9f6e",
   "metadata": {},
   "outputs": [],
   "source": [
    "df['color']=df.paint.str.replace(r'SILVER','silver').str.replace(r'black','Black').str.replace(r'BLACK','Black').str.replace(r'Midnight Black Metal','Black').str.replace(r'Black and silver','Black').str.replace(r'Black/Red','Black').str.replace(r'Black sand pearl','Black').str.replace(r'WHITE','White').str.replace(r'Milk','Cream').str.replace(r'blue','Blue').str.replace(r'Whine','Wine').str.replace(r'Grey','Gray').str.replace(r'WINE','Wine').str.replace(r'green','Green').str.replace(r'Mint Green','Green').str.replace(r'Sliver','Silver').str.replace(r'red','Red').str.replace(r'Gery','Gray').str.replace(r'Magnetic Gray','Gray').str.replace(r'Gray and Black','Gray').str.replace(r'Gray Metallic','Gray').str.replace(r'Light Gray','Gray').str.replace(r'Pale brown','Brown').str.replace(r'Ash and Black','Ash').str.replace(r'Dark ash','Ash').str.replace(r'Silver/grey','Gray').str.replace(r'white','White').str.replace(r'Dark Green','Green').str.replace(r'Dark Ash','Ash').str.replace(r'Dark Gray','Gray').str.replace(r'Dark gray','Gray').str.replace(r'DARK GREY','Gray').str.replace(r'Dark silver','Silver').str.replace(r'silver','Silver').str.replace(r'Light Silver','Silver').str.replace(r'Dark Blue','Blue').str.replace(r'Deep Blue','Blue').str.replace(r'White-Blue','Blue').str.replace(r'Sky Blue','Blue').str.replace(r'Navy Blue','Blue').str.replace(r'Skye Blue','Blue').str.replace(r'Light Blue','Blue').str.replace(r'Ink Blue','Blue').str.replace(r'GOLD','Gold').str.replace(r'Golf','Gold').str.replace(r'Light Gold','Gold').str.replace(r'White orchild pearl','White').str.replace(r'Off White','White').str.replace(r'White and Green','White').str.replace(r'Super White','White').str.replace(r'White l','White').str.replace(r'yellow','Yellow').str.replace(r'Indigo ink pearl','Indigo').str.replace(r'Redl','Red').str.replace(r'Black.','Black').str.strip()"
   ]
  },
  {
   "cell_type": "code",
   "execution_count": null,
   "id": "81dc7b72",
   "metadata": {},
   "outputs": [],
   "source": [
    "df.color.value_counts()"
   ]
  },
  {
   "cell_type": "code",
   "execution_count": null,
   "id": "f7f2296a",
   "metadata": {},
   "outputs": [],
   "source": [
    "df.columns"
   ]
  },
  {
   "cell_type": "code",
   "execution_count": null,
   "id": "d96fba47",
   "metadata": {},
   "outputs": [],
   "source": [
    "del df['paint']"
   ]
  },
  {
   "cell_type": "code",
   "execution_count": null,
   "id": "d9589de4",
   "metadata": {},
   "outputs": [],
   "source": [
    "print(df.columns)"
   ]
  },
  {
   "cell_type": "code",
   "execution_count": null,
   "id": "2b9694d9",
   "metadata": {},
   "outputs": [],
   "source": [
    "df['paint']=df.color.str.replace(r'Blac$','Black')"
   ]
  },
  {
   "cell_type": "code",
   "execution_count": null,
   "id": "73f64ae6",
   "metadata": {},
   "outputs": [],
   "source": [
    "df.paint.value_counts()"
   ]
  },
  {
   "cell_type": "code",
   "execution_count": null,
   "id": "4d046fb2",
   "metadata": {},
   "outputs": [],
   "source": [
    "del df['color']"
   ]
  },
  {
   "cell_type": "code",
   "execution_count": null,
   "id": "0fdfd428",
   "metadata": {},
   "outputs": [],
   "source": [
    "df.columns"
   ]
  },
  {
   "cell_type": "code",
   "execution_count": null,
   "id": "ee1c299e",
   "metadata": {},
   "outputs": [],
   "source": [
    "df.head(30)"
   ]
  },
  {
   "cell_type": "code",
   "execution_count": null,
   "id": "426b7b9d",
   "metadata": {},
   "outputs": [],
   "source": [
    "df.title.value_counts()"
   ]
  },
  {
   "cell_type": "code",
   "execution_count": null,
   "id": "082280ce",
   "metadata": {
    "scrolled": true
   },
   "outputs": [],
   "source": [
    "df.loc[(df.title.str.contains('Mercedes'))].tail(60)"
   ]
  },
  {
   "cell_type": "code",
   "execution_count": null,
   "id": "56457bfe",
   "metadata": {},
   "outputs": [],
   "source": [
    "print(df.columns)"
   ]
  },
  {
   "cell_type": "code",
   "execution_count": null,
   "id": "80d14150",
   "metadata": {},
   "outputs": [],
   "source": [
    "print(df.describe())"
   ]
  },
  {
   "cell_type": "code",
   "execution_count": null,
   "id": "2f9ac204",
   "metadata": {},
   "outputs": [],
   "source": [
    "print(df.sort_values(by='odometer', ascending=True).head(50))"
   ]
  },
  {
   "cell_type": "code",
   "execution_count": null,
   "id": "c8518575",
   "metadata": {},
   "outputs": [],
   "source": [
    "Abuja_cars=df.query('address == \"Abuja\"')"
   ]
  },
  {
   "cell_type": "code",
   "execution_count": null,
   "id": "57432205",
   "metadata": {},
   "outputs": [],
   "source": [
    "Abuja_cars"
   ]
  },
  {
   "cell_type": "code",
   "execution_count": null,
   "id": "66f41d7a",
   "metadata": {},
   "outputs": [],
   "source": [
    "Lagos_cars=df.query('address==\"Lagos\"')"
   ]
  },
  {
   "cell_type": "code",
   "execution_count": null,
   "id": "0f6178bc",
   "metadata": {},
   "outputs": [],
   "source": [
    "Lagos_cars.value_counts()"
   ]
  },
  {
   "cell_type": "code",
   "execution_count": null,
   "id": "97db1099",
   "metadata": {},
   "outputs": [],
   "source": [
    "Ogun_cars=df.query('address==\"Ogun\"')"
   ]
  },
  {
   "cell_type": "code",
   "execution_count": null,
   "id": "f6961aef",
   "metadata": {
    "scrolled": true
   },
   "outputs": [],
   "source": [
    "Ogun_cars.value_counts()"
   ]
  },
  {
   "cell_type": "code",
   "execution_count": null,
   "id": "eab4ba91",
   "metadata": {},
   "outputs": [],
   "source": [
    "Others=df.query('address==\"other\"')"
   ]
  },
  {
   "cell_type": "code",
   "execution_count": null,
   "id": "84fc9921",
   "metadata": {},
   "outputs": [],
   "source": [
    "df['Make']=df.title.str.replace(r'-Benz','').str.replace(r'CR-V','').str.replace(r'\\d','').str.replace(r'Runner','').str.replace(r'Matrix','').str.replace(r'GLK','').str.replace(r'MDX','').str.replace(r'Tacoma','').str.replace(r'Elantra','').str.replace(r'oaster','').str.replace(r'Insight','').str.replace(r'Mustang','').str.replace(r'Velar','').str.replace(r'Vitz','').str.replace(r'BOKMANN','').str.replace(r'ZD','').str.replace(r'Soul','').str.replace(r'Truck .','').str.replace(r'TGA .','').str.replace(r'Discovery','').str.replace(r'voque','').str.replace(r'clipse','').str.replace(r'Titan','').str.replace(r'T other','').str.replace(r'abstar','').str.replace(r'Murano','').str.replace(r'Passat','').str.replace(r'Trail','').str.replace(r'Fusion','').str.replace(r'Azera','').str.replace(r'erato','').str.replace(r'Sorento','').str.replace(r'lement','').str.replace(r'Ghost','').str.replace(r'RD','').str.replace(r'LT','').str.replace(r'Tundra','').str.replace(r'Type','').str.replace(r'terra','').str.replace(r'Odyssey','').str.replace(r'ix','').str.replace(r'Wrangler','').str.replace(r'Fit','').str.replace(r'Tucson','').str.replace(r'Pajero','').str.replace(r'Sonata','').str.replace(r'Pilot','').str.replace(r'Hilux','').str.replace(r'ML','').str.replace(r'- ML','').str.replace(r'Avalon','').str.replace(r'Sport','').str.replace(r'AMG','').str.replace(r'Golf','').str.replace(r'ayenne','').str.replace(r'Tribute','').str.replace(r'Avensis','').str.replace(r'Sante Fe','').str.replace(r'Prado','').str.replace(r'Panamera','').str.replace(r'Sharan','').str.replace(r'Jetta','').str.replace(r'Pilot','').str.replace(r'Tiguan','').str.replace(r'Vibe','').str.replace(r'Transit','').str.replace(r'Riline','').str.replace(r'TL','').str.replace(r'Sentra','').str.replace(r'FL','').str.replace(r'ooper','').str.replace(r'Rio','').str.replace(r'scape','').str.replace(r'LS','').str.replace(r'Altima','').str.replace(r'Pathfinder','').str.replace(r'Yaris','').str.replace(r'Optima','').str.replace(r'rosstour','').str.replace(r'LA','').str.replace(r'Hiace','').str.replace(r'Land ruiser','').str.replace(r'Range Rover','').str.replace(r'Corolla','').str.replace(r'LX','').str.replace(r'Venza','').str.replace(r'GX','').str.replace(r'ES','').str.replace(r'RX','').str.replace(r'Accord','').str.replace(r'RAV','').str.replace(r'Camry','').str.replace(r'xplorer','').str.replace(r'ivic','').str.replace(r'X','').str.replace(r'dge','').str.replace(r'GL','').str.replace(r'GS','').str.replace(r'IS','').str.replace(r'-','').str.replace(r'ountryman','').str.replace(r'DYNA','').str.replace(r'Highlander','').str.replace(r'Sienna','').str.replace(r'E','').str.replace(r'C','').str.strip()"
   ]
  },
  {
   "cell_type": "code",
   "execution_count": null,
   "id": "a170cd21",
   "metadata": {},
   "outputs": [],
   "source": [
    "df.Make.value_counts().head(50)"
   ]
  },
  {
   "cell_type": "code",
   "execution_count": null,
   "id": "feb94a26",
   "metadata": {
    "scrolled": true
   },
   "outputs": [],
   "source": [
    "df.Make.nunique()"
   ]
  },
  {
   "cell_type": "code",
   "execution_count": null,
   "id": "ff42e01e",
   "metadata": {},
   "outputs": [],
   "source": [
    "df.to_csv('cars.csv')"
   ]
  },
  {
   "cell_type": "code",
   "execution_count": null,
   "id": "a06b4af4",
   "metadata": {},
   "outputs": [],
   "source": []
  }
 ],
 "metadata": {
  "kernelspec": {
   "display_name": "Python 3 (ipykernel)",
   "language": "python",
   "name": "python3"
  },
  "language_info": {
   "codemirror_mode": {
    "name": "ipython",
    "version": 3
   },
   "file_extension": ".py",
   "mimetype": "text/x-python",
   "name": "python",
   "nbconvert_exporter": "python",
   "pygments_lexer": "ipython3",
   "version": "3.9.7"
  }
 },
 "nbformat": 4,
 "nbformat_minor": 5
}
